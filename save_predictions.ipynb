{
 "cells": [
  {
   "cell_type": "code",
   "execution_count": 1,
   "id": "9885c647",
   "metadata": {},
   "outputs": [],
   "source": [
    "import os\n",
    "import random\n",
    "import numpy as np\n",
    "from PIL import Image\n",
    "\n",
    "import torch\n",
    "\n",
    "from fcn import FCN8s, convert_trainid_mask\n",
    "from cityscapes import get_transforms\n",
    "\n",
    "DEVICE = 'cuda'\n",
    "torch.cuda.empty_cache()"
   ]
  },
  {
   "cell_type": "code",
   "execution_count": 2,
   "id": "40a0e5e4",
   "metadata": {},
   "outputs": [],
   "source": [
    "model_weights_path = \"./saved/fcn_e_50.pth\"\n",
    "cfg = {\n",
    "    'train_crop_size': [1024, 1024],\n",
    "    'num_classes': 20,\n",
    "    'model_weights_path': model_weights_path,\n",
    "}"
   ]
  },
  {
   "cell_type": "code",
   "execution_count": 3,
   "id": "479edea0",
   "metadata": {},
   "outputs": [
    {
     "data": {
      "text/plain": [
       "FCN8s(\n",
       "  (vgg): VGG(\n",
       "    (os_8): Sequential(\n",
       "      (0): Conv2d(3, 64, kernel_size=(3, 3), stride=(1, 1), padding=(1, 1))\n",
       "      (1): BatchNorm2d(64, eps=1e-05, momentum=0.1, affine=True, track_running_stats=True)\n",
       "      (2): ReLU(inplace=True)\n",
       "      (3): MaxPool2d(kernel_size=2, stride=2, padding=0, dilation=1, ceil_mode=False)\n",
       "      (4): Conv2d(64, 128, kernel_size=(3, 3), stride=(1, 1), padding=(1, 1))\n",
       "      (5): BatchNorm2d(128, eps=1e-05, momentum=0.1, affine=True, track_running_stats=True)\n",
       "      (6): ReLU(inplace=True)\n",
       "      (7): MaxPool2d(kernel_size=2, stride=2, padding=0, dilation=1, ceil_mode=False)\n",
       "      (8): Conv2d(128, 256, kernel_size=(3, 3), stride=(1, 1), padding=(1, 1))\n",
       "      (9): BatchNorm2d(256, eps=1e-05, momentum=0.1, affine=True, track_running_stats=True)\n",
       "      (10): ReLU(inplace=True)\n",
       "      (11): Conv2d(256, 256, kernel_size=(3, 3), stride=(1, 1), padding=(1, 1))\n",
       "      (12): BatchNorm2d(256, eps=1e-05, momentum=0.1, affine=True, track_running_stats=True)\n",
       "      (13): ReLU(inplace=True)\n",
       "      (14): MaxPool2d(kernel_size=2, stride=2, padding=0, dilation=1, ceil_mode=False)\n",
       "    )\n",
       "    (os_16): Sequential(\n",
       "      (0): Conv2d(256, 512, kernel_size=(3, 3), stride=(1, 1), padding=(1, 1))\n",
       "      (1): BatchNorm2d(512, eps=1e-05, momentum=0.1, affine=True, track_running_stats=True)\n",
       "      (2): ReLU(inplace=True)\n",
       "      (3): Conv2d(512, 512, kernel_size=(3, 3), stride=(1, 1), padding=(1, 1))\n",
       "      (4): BatchNorm2d(512, eps=1e-05, momentum=0.1, affine=True, track_running_stats=True)\n",
       "      (5): ReLU(inplace=True)\n",
       "      (6): MaxPool2d(kernel_size=2, stride=2, padding=0, dilation=1, ceil_mode=False)\n",
       "    )\n",
       "    (os_32): Sequential(\n",
       "      (0): Conv2d(512, 512, kernel_size=(3, 3), stride=(1, 1), padding=(1, 1))\n",
       "      (1): BatchNorm2d(512, eps=1e-05, momentum=0.1, affine=True, track_running_stats=True)\n",
       "      (2): ReLU(inplace=True)\n",
       "      (3): Conv2d(512, 512, kernel_size=(3, 3), stride=(1, 1), padding=(1, 1))\n",
       "      (4): BatchNorm2d(512, eps=1e-05, momentum=0.1, affine=True, track_running_stats=True)\n",
       "      (5): ReLU(inplace=True)\n",
       "      (6): MaxPool2d(kernel_size=2, stride=2, padding=0, dilation=1, ceil_mode=False)\n",
       "    )\n",
       "  )\n",
       "  (score_pool_32): Conv2d(512, 20, kernel_size=(1, 1), stride=(1, 1))\n",
       "  (score_pool_16): Conv2d(512, 20, kernel_size=(1, 1), stride=(1, 1))\n",
       "  (score_pool_8): Conv2d(256, 20, kernel_size=(1, 1), stride=(1, 1))\n",
       "  (upscore_32): ConvTranspose2d(20, 20, kernel_size=(4, 4), stride=(2, 2), padding=(1, 1), bias=False)\n",
       "  (upscore_16): ConvTranspose2d(20, 20, kernel_size=(4, 4), stride=(2, 2), padding=(1, 1), bias=False)\n",
       "  (upscore_8): ConvTranspose2d(20, 20, kernel_size=(16, 16), stride=(8, 8), padding=(4, 4), bias=False)\n",
       ")"
      ]
     },
     "execution_count": 3,
     "metadata": {},
     "output_type": "execute_result"
    }
   ],
   "source": [
    "transform_train, transform_val_test = get_transforms(cfg[\"train_crop_size\"], [0.485, 0.456, 0.406], [0.229, 0.224, 0.225])\n",
    "\n",
    "model = FCN8s(num_classes=cfg['num_classes'])\n",
    "model_state_dict = torch.load(cfg['model_weights_path'], map_location='cpu', weights_only=True)\n",
    "model.load_state_dict(model_state_dict)\n",
    "model.to(DEVICE)\n",
    "model.eval()"
   ]
  },
  {
   "cell_type": "code",
   "execution_count": 4,
   "id": "6e1bf531",
   "metadata": {},
   "outputs": [],
   "source": [
    "def predict(image_path):\n",
    "    image = Image.open(image_path).convert('RGB')\n",
    "    img = transform_val_test(image).unsqueeze(0).to(DEVICE)\n",
    "\n",
    "    with torch.no_grad():\n",
    "        pred_logits = model(img)\n",
    "        pred_mask = torch.argmax(pred_logits, dim=1).squeeze().cpu().numpy().astype(np.uint8)\n",
    "        pred_mask_color = convert_trainid_mask(\n",
    "            pred_mask,\n",
    "            to=\"color\",\n",
    "            name_to_trainId_path='./cityscapes/name_to_trainId.json',\n",
    "            name_to_color_path='./cityscapes/name_to_color.json',\n",
    "            name_to_labelId_path='./cityscapes/name_to_labelId.json',\n",
    "        ).astype(np.uint8)\n",
    "    pred_mask_color = Image.fromarray(pred_mask_color).convert('RGB')\n",
    "    return image, pred_mask_color"
   ]
  },
  {
   "cell_type": "code",
   "execution_count": 5,
   "id": "a2b77187",
   "metadata": {},
   "outputs": [
    {
     "name": "stdout",
     "output_type": "stream",
     "text": [
      "Found 500 images.\n"
     ]
    }
   ],
   "source": [
    "file_list = []\n",
    "for city in os.listdir('./data/leftImg8bit/val/'):\n",
    "    img_dir = os.path.join('./data/leftImg8bit/val/', city)\n",
    "    for file_name in os.listdir(img_dir):\n",
    "        if file_name.endswith('_leftImg8bit.png'):\n",
    "            img_path = os.path.join(img_dir, file_name)\n",
    "            file_list.append(img_path)\n",
    "\n",
    "print(f\"Found {len(file_list)} images.\")\n",
    "random.seed(42)\n",
    "random.shuffle(file_list)"
   ]
  },
  {
   "cell_type": "code",
   "execution_count": 6,
   "id": "8cdd7a33",
   "metadata": {},
   "outputs": [
    {
     "name": "stdout",
     "output_type": "stream",
     "text": [
      "Processing 50/50\r"
     ]
    }
   ],
   "source": [
    "results = []\n",
    "for i, file_path in enumerate(file_list[0:50]):\n",
    "    print(f\"Processing {i + 1}/{len(file_list[0:50])}\", end='\\r')\n",
    "    image, pred_mask_color = predict(file_path)\n",
    "    blended = Image.blend(image, pred_mask_color, 0.3)\n",
    "    results.append(blended)"
   ]
  },
  {
   "cell_type": "code",
   "execution_count": 7,
   "id": "6d8eb727",
   "metadata": {},
   "outputs": [],
   "source": [
    "results[0].save(\n",
    "    \"./outputs/fcn.gif\",\n",
    "    format=\"GIF\",\n",
    "    save_all=True,\n",
    "    append_images=results[1:50],\n",
    "    duration=5000,\n",
    "    loop=0,\n",
    ")"
   ]
  }
 ],
 "metadata": {
  "kernelspec": {
   "display_name": "Python 3",
   "language": "python",
   "name": "python3"
  },
  "language_info": {
   "codemirror_mode": {
    "name": "ipython",
    "version": 3
   },
   "file_extension": ".py",
   "mimetype": "text/x-python",
   "name": "python",
   "nbconvert_exporter": "python",
   "pygments_lexer": "ipython3",
   "version": "3.8.10"
  }
 },
 "nbformat": 4,
 "nbformat_minor": 5
}
